{
 "cells": [
  {
   "cell_type": "markdown",
   "metadata": {},
   "source": [
    "## 1. Loading Required Packages"
   ]
  },
  {
   "cell_type": "code",
   "execution_count": 1,
   "metadata": {},
   "outputs": [],
   "source": [
    "# Standard libraries\n",
    "import sys\n",
    "sys.path.append('../../')\n",
    "\n",
    "import itertools\n",
    "\n",
    "# Data analysis\n",
    "import pandas as pd\n",
    "import numpy as np\n",
    "import matplotlib.pyplot as plt\n",
    "\n",
    "# FinRL and stable_baselines3 for machine learning and trading\n",
    "from finrl.meta.preprocessor.yahoodownloader import YahooDownloader\n",
    "from finrl.meta.preprocessor.preprocessors import FeatureEngineer, data_split\n",
    "from finrl.meta.env_primo_trading.env_primorl import StockTradingEnv\n",
    "from finrl.agents.stablebaselines3.models import DRLAgent\n",
    "from stable_baselines3 import A2C, DDPG, PPO, SAC, TD3\n",
    "from stable_baselines3.common.logger import configure\n",
    "\n",
    "# Configuration files and helper functions from FinRL\n",
    "from finrl.config import INDICATORS, FUNDAMENTAL_INDICATORS\n",
    "from finrl.main import check_and_make_directories\n",
    "\n",
    "# Enabling chart display within Jupyter notebook\n",
    "%matplotlib inline\n",
    "\n",
    "TRAINED_MODEL_DIR = 'trained_models_primorl'\n",
    "RESULTS_DIR = 'results_primorl'\n",
    "DATA_DIR = 'data_primorl'\n",
    "\n",
    "# Checking and creating directories\n",
    "check_and_make_directories([TRAINED_MODEL_DIR, DATA_DIR])"
   ]
  },
  {
   "cell_type": "markdown",
   "metadata": {},
   "source": [
    "## 2. Data Retrieval"
   ]
  },
  {
   "cell_type": "markdown",
   "metadata": {},
   "source": [
    "We have a class called YahooDownloader that uses yfinance to fetch data from Yahoo Finance.\n",
    "\n",
    "In the YahooDownloader of FinRL, we modified the data frame into a format suitable for further data processing. We use a custom closing price instead of the regular closing price and add a column that represents the day of the week (0-4 corresponding to Monday-Friday)."
   ]
  },
  {
   "cell_type": "code",
   "execution_count": 2,
   "metadata": {},
   "outputs": [],
   "source": [
    "# Training and trading intervals\n",
    "TRAIN_START_DATE = '2022-04-01'\n",
    "TRAIN_END_DATE = '2024-07-31'\n",
    "TRADE_START_DATE = '2024-08-01'\n",
    "TRADE_END_DATE = '2025-02-28'"
   ]
  },
  {
   "cell_type": "markdown",
   "metadata": {},
   "source": [
    "Učitavamo podatke iz CSV datoteke koja sadrži generirane značajke od strane GPT-4 modela."
   ]
  },
  {
   "cell_type": "code",
   "execution_count": null,
   "metadata": {},
   "outputs": [],
   "source": [
    "gpt_predictions = pd.read_csv('data/CRM_data.csv')\n",
    "\n",
    "# Renaming the column 'Date' to 'date'\n",
    "gpt_predictions = gpt_predictions.rename(columns={'Date': 'date'})\n",
    "\n",
    "gpt_predictions.head()"
   ]
  },
  {
   "cell_type": "code",
   "execution_count": null,
   "metadata": {},
   "outputs": [],
   "source": [
    "# Fetching all data\n",
    "df_raw = YahooDownloader(start_date = TRAIN_START_DATE,\n",
    "                         end_date = TRADE_END_DATE,\n",
    "                         ticker_list = ['CRM']).fetch_data()"
   ]
  },
  {
   "cell_type": "code",
   "execution_count": null,
   "metadata": {},
   "outputs": [],
   "source": [
    "df_raw.head()"
   ]
  },
  {
   "cell_type": "markdown",
   "metadata": {},
   "source": [
    "## 3. Data Processing"
   ]
  },
  {
   "cell_type": "markdown",
   "metadata": {},
   "source": [
    "We use the defined class FeatureEngineer to process data and add technical indicators.\n",
    "\n",
    "The use_vix option includes the VIX index, known as the \"fear index,\" which represents the expected volatility of the stock market based on S&P 500 options. The VIX helps the model understand market uncertainty, with higher values indicating greater uncertainty.\n",
    "\n",
    "The use_turbulence option includes the turbulence index, which measures unusual market fluctuations and serves as an indicator of risk and market shocks. It is useful for identifying periods of high volatility, helping the model to adapt to financial crises.\n",
    "\n",
    "Overall, a quite handy class that contains useful methods for processing financial data and can be applied to numerous other purposes."
   ]
  },
  {
   "cell_type": "code",
   "execution_count": null,
   "metadata": {},
   "outputs": [],
   "source": [
    "fe = FeatureEngineer(use_technical_indicator=True,\n",
    "                     tech_indicator_list = INDICATORS,\n",
    "                     use_vix=True,\n",
    "                     use_turbulence=False,\n",
    "                     user_defined_feature = False)\n",
    "\n",
    "processed = fe.preprocess_data(df_raw)"
   ]
  },
  {
   "cell_type": "code",
   "execution_count": 7,
   "metadata": {},
   "outputs": [],
   "source": [
    "# Create a list of unique stock tickers from the 'tic' column of the 'processed' DataFrame.\n",
    "list_ticker = processed[\"tic\"].unique().tolist()\n",
    "\n",
    "# Create a list of dates between the earliest and latest dates in the 'processed' DataFrame, converting them to strings.\n",
    "list_date = list(pd.date_range(processed['date'].min(), processed['date'].max()).astype(str))\n",
    "\n",
    "# Create combinations of all dates and stock tickers using the Cartesian product.\n",
    "combination = list(itertools.product(list_date, list_ticker))\n",
    "\n",
    "# Create a new DataFrame 'processed_full' with columns \"date\" and \"tic\", containing all combinations of dates and stock tickers.\n",
    "# Merge this DataFrame with the original 'processed' DataFrame based on the \"date\" and \"tic\" columns, using a 'left' join.\n",
    "processed_full = pd.DataFrame(combination, columns=[\"date\", \"tic\"]).merge(processed, on=[\"date\", \"tic\"], how=\"left\")\n",
    "\n",
    "# Filter the 'processed_full' DataFrame to contain only those rows whose dates are present in the original 'processed' DataFrame.\n",
    "processed_full = processed_full[processed_full['date'].isin(processed['date'])]\n",
    "\n",
    "# Sort the 'processed_full' DataFrame by date and stock ticker.\n",
    "processed_full = processed_full.sort_values(['date', 'tic'])\n",
    "\n",
    "# Replace all missing values (NaN) with 0 in the 'processed_full' DataFrame.\n",
    "processed_full = processed_full.fillna(0)"
   ]
  },
  {
   "cell_type": "code",
   "execution_count": null,
   "metadata": {},
   "outputs": [],
   "source": [
    "processed_full.head()"
   ]
  },
  {
   "cell_type": "markdown",
   "metadata": {},
   "source": [
    "### We merge these fetched data with the data from the CSV file containing the generated features by the PrimoGPT model."
   ]
  },
  {
   "cell_type": "code",
   "execution_count": 9,
   "metadata": {},
   "outputs": [],
   "source": [
    "# Merging by date\n",
    "processed_full = processed_full.merge(gpt_predictions, on='date', how='left')\n",
    "processed_full = processed_full.fillna(0)\n",
    "\n",
    "# Removing unnecessary columns\n",
    "columns_to_drop = ['Adj Close Price', 'Returns', 'Bin Label', 'Prompt']\n",
    "processed_full = processed_full.drop(columns=columns_to_drop)\n",
    "\n",
    "# Manually renaming specific columns\n",
    "column_mapping = {\n",
    "    'News Relevance': 'news_relevance',\n",
    "    'Sentiment': 'sentiment',\n",
    "    'Price Impact Potential': 'price_impact_potential',\n",
    "    'Trend Direction': 'trend_direction',\n",
    "    'Earnings Impact': 'earnings_impact',\n",
    "    'Investor Confidence': 'investor_confidence',\n",
    "    'Risk Profile Change': 'risk_profile_change'\n",
    "}\n",
    "\n",
    "# Renaming columns\n",
    "processed_full = processed_full.rename(columns=column_mapping)"
   ]
  },
  {
   "cell_type": "code",
   "execution_count": null,
   "metadata": {},
   "outputs": [],
   "source": [
    "processed_full.head()"
   ]
  },
  {
   "cell_type": "code",
   "execution_count": null,
   "metadata": {},
   "outputs": [],
   "source": [
    "# Preparing the training and trade set according to the defined dates\n",
    "train = data_split(processed_full, TRAIN_START_DATE,TRAIN_END_DATE)\n",
    "trade = data_split(processed_full, TRADE_START_DATE,TRADE_END_DATE)\n",
    "print(len(train))\n",
    "print(len(trade))"
   ]
  },
  {
   "cell_type": "code",
   "execution_count": 12,
   "metadata": {},
   "outputs": [],
   "source": [
    "# Saving the data\n",
    "train.to_csv(DATA_DIR + '/train_data.csv')\n",
    "trade.to_csv(DATA_DIR + '/trade_data.csv')"
   ]
  },
  {
   "cell_type": "markdown",
   "metadata": {},
   "source": [
    "## 4. Preparing the environment"
   ]
  },
  {
   "cell_type": "markdown",
   "metadata": {},
   "source": [
    "stock_dimension represents the number of unique stocks in the dataset. This value is used to determine how many different stocks the model can trade.\n",
    "\n",
    "state_space denotes the total size of the state space that the model uses for decision-making. The state space includes current stock data (such as prices and technical indicators) and information about the current portfolio (such as the number of shares owned). The size of the state space is determined by a formula that takes into account the number of stocks and the number of technical indicators."
   ]
  },
  {
   "cell_type": "code",
   "execution_count": null,
   "metadata": {},
   "outputs": [],
   "source": [
    "# Calculating the dimension (number of unique stocks) from the 'train' DataFrame.\n",
    "stock_dimension = len(train.tic.unique())\n",
    "\n",
    "# Calculating the state size based on the dimension and the number of technical indicators.\n",
    "state_space = 1 + 2*stock_dimension + len(INDICATORS)*stock_dimension + len(FUNDAMENTAL_INDICATORS)*stock_dimension\n",
    "print(f\"Stock Dimension: {stock_dimension}, State Space: {state_space}\")"
   ]
  },
  {
   "cell_type": "code",
   "execution_count": 14,
   "metadata": {},
   "outputs": [],
   "source": [
    "# Creates lists of buy and sell costs for each stock.\n",
    "buy_cost_list = sell_cost_list = [0] * stock_dimension\n",
    "\n",
    "# Initializes the number of shares for each stock to 0.\n",
    "num_stock_shares = [0] * stock_dimension"
   ]
  },
  {
   "cell_type": "markdown",
   "metadata": {},
   "source": [
    "e_train_gym is an instance of the StockTradingEnv class, which represents the trading environment. This environment uses the data and parameters defined to simulate the stock market. The model learns how to trade within this environment, trying to maximize the total reward (profit) through a series of trading decisions.\n",
    "\n",
    "env_train is obtained by calling the get_sb_env() method on the e_train_gym instance. This method returns an environment compatible with the Stable Baselines 3 library, which is used for implementing reinforcement learning algorithms. The second return element, which is ignored here (_), can be used for additional information or functionalities provided by the environment."
   ]
  },
  {
   "cell_type": "code",
   "execution_count": null,
   "metadata": {},
   "outputs": [],
   "source": [
    "# Define arguments for the trading environment.\n",
    "env_kwargs = {\n",
    "    \"hmax\": 1000,  # Maximum number of shares that can be bought or sold in a single transaction.\n",
    "    \"initial_amount\": 100000,  # Initial amount of capital.\n",
    "    \"num_stock_shares\": num_stock_shares,  # Initial number of shares for each stock in the portfolio, initially set to 0.\n",
    "    \"buy_cost_pct\": buy_cost_list,  # Percentages of costs for buying and selling stocks, simulating actual transaction costs.\n",
    "    \"sell_cost_pct\": sell_cost_list,  # Percentages of costs for buying and selling stocks, simulating actual transaction costs.\n",
    "    \"state_space\": state_space,  # Previously defined sizes that affect the structure of the environment.\n",
    "    \"stock_dim\": stock_dimension,  # Previously defined sizes that affect the structure of the environment.\n",
    "    \"tech_indicator_list\": INDICATORS,  # List of technical indicators to be used for market state analysis.\n",
    "    \"fundamental_indicator_list\": FUNDAMENTAL_INDICATORS,  # List of fundamental indicators to be used for market state analysis.\n",
    "    \"action_space\": stock_dimension,  # Size of the action space, i.e., the number of different actions the model can take.\n",
    "    \"reward_scaling\": 1e-2,  # Scaling factor for the reward, used to adjust the reward size to facilitate learning.\n",
    "    \"verbose\": 0\n",
    "}\n",
    "\n",
    "# Creates the training environment.\n",
    "e_train_gym = StockTradingEnv(df = train, **env_kwargs)\n",
    "\n",
    "# Retrieves the environment suitable for Stable Baselines and an unused object.\n",
    "env_train, _ = e_train_gym.get_sb_env()\n",
    "print(type(env_train))"
   ]
  },
  {
   "cell_type": "markdown",
   "metadata": {},
   "source": [
    "## 5. Training DRL Agents"
   ]
  },
  {
   "cell_type": "markdown",
   "metadata": {},
   "source": [
    "Here are the deep reinforcement learning (DRL) algorithms from the Stable Baselines 3 library. This is a library that has implemented popular DRL algorithms using PyTorch.\n",
    "\n",
    "As an alternative, the ElegantRL and Ray RLlib libraries can be used."
   ]
  },
  {
   "cell_type": "markdown",
   "metadata": {},
   "source": [
    "### Training 5 different DRL agents (A2C, DDPG, PPO, TD3, SAC)"
   ]
  },
  {
   "cell_type": "code",
   "execution_count": 16,
   "metadata": {},
   "outputs": [],
   "source": [
    "# Setting the appropriate values to 'True' for the algorithms you want to use\n",
    "if_using_a2c = False\n",
    "if_using_ddpg = False\n",
    "if_using_ppo = True\n",
    "if_using_td3 = False\n",
    "if_using_sac = False"
   ]
  },
  {
   "cell_type": "markdown",
   "metadata": {},
   "source": [
    "#### Agent 1: A2C"
   ]
  },
  {
   "cell_type": "code",
   "execution_count": null,
   "metadata": {},
   "outputs": [],
   "source": [
    "# A new instance of the DRL agent is created with the given environment (it is not necessary to do this again, but for easier instructions, it remains)\n",
    "agent = DRLAgent(env = env_train)\n",
    "# Retrieves the A2C model using the get_model method\n",
    "model_a2c = agent.get_model(\"a2c\")\n",
    "\n",
    "if if_using_a2c:\n",
    "  # Setting up the logger to monitor and record information during training\n",
    "  tmp_path = RESULTS_DIR + '/a2c'\n",
    "  # Configures a new logger that will print information to standard output, log to a CSV file, and TensorBoard\n",
    "  new_logger_a2c = configure(tmp_path, [\"stdout\", \"csv\", \"tensorboard\"])\n",
    "  # Sets the new logger for the A2C model."
   ]
  },
  {
   "cell_type": "code",
   "execution_count": 18,
   "metadata": {},
   "outputs": [],
   "source": [
    "# Train the A2C model with the defined total number of time steps, only if if_using_a2c is set to True.\n",
    "trained_a2c = agent.train_model(model=model_a2c, \n",
    "                                tb_log_name='a2c',\n",
    "                                total_timesteps=50000) if if_using_a2c else None"
   ]
  },
  {
   "cell_type": "code",
   "execution_count": 19,
   "metadata": {},
   "outputs": [],
   "source": [
    "# Save the trained A2C model to the defined directory, only if if_using_a2c is set to True.\n",
    "trained_a2c.save(TRAINED_MODEL_DIR + \"/agent_a2c\") if if_using_a2c else None"
   ]
  },
  {
   "cell_type": "markdown",
   "metadata": {},
   "source": [
    "#### Agent 2: DDPG"
   ]
  },
  {
   "cell_type": "code",
   "execution_count": null,
   "metadata": {},
   "outputs": [],
   "source": [
    "agent = DRLAgent(env = env_train)\n",
    "model_ddpg = agent.get_model(\"ddpg\")\n",
    "\n",
    "if if_using_ddpg:\n",
    "  # set up logger\n",
    "  tmp_path = RESULTS_DIR + '/ddpg'\n",
    "  new_logger_ddpg = configure(tmp_path, [\"stdout\", \"csv\", \"tensorboard\"])\n",
    "  # Set new logger\n",
    "  model_ddpg.set_logger(new_logger_ddpg)"
   ]
  },
  {
   "cell_type": "code",
   "execution_count": 21,
   "metadata": {},
   "outputs": [],
   "source": [
    "trained_ddpg = agent.train_model(model=model_ddpg, \n",
    "                             tb_log_name='ddpg',\n",
    "                             total_timesteps=50000) if if_using_ddpg else None"
   ]
  },
  {
   "cell_type": "code",
   "execution_count": 22,
   "metadata": {},
   "outputs": [],
   "source": [
    "trained_ddpg.save(TRAINED_MODEL_DIR + \"/agent_ddpg\") if if_using_ddpg else None"
   ]
  },
  {
   "cell_type": "markdown",
   "metadata": {},
   "source": [
    "#### Agent 3: PPO"
   ]
  },
  {
   "cell_type": "code",
   "execution_count": null,
   "metadata": {},
   "outputs": [],
   "source": [
    "agent = DRLAgent(env = env_train)\n",
    "PPO_PARAMS = {\n",
    "       \"n_steps\": 2048,\n",
    "       \"ent_coef\": 0.01,\n",
    "       \"learning_rate\": 0.00025,\n",
    "       \"batch_size\": 128,\n",
    "}\n",
    "model_ppo = agent.get_model(\"ppo\",model_kwargs = PPO_PARAMS)\n",
    "\n",
    "if if_using_ppo:\n",
    "  # set up logger\n",
    "  tmp_path = RESULTS_DIR + '/ppo'\n",
    "  new_logger_ppo = configure(tmp_path, [\"stdout\", \"csv\", \"tensorboard\"])\n",
    "  # Set new logger\n",
    "  model_ppo.set_logger(new_logger_ppo)"
   ]
  },
  {
   "cell_type": "code",
   "execution_count": null,
   "metadata": {},
   "outputs": [],
   "source": [
    "trained_ppo = agent.train_model(model=model_ppo, \n",
    "                             tb_log_name='ppo',\n",
    "                             total_timesteps=400000) if if_using_ppo else None"
   ]
  },
  {
   "cell_type": "code",
   "execution_count": 25,
   "metadata": {},
   "outputs": [],
   "source": [
    "trained_ppo.save(TRAINED_MODEL_DIR + \"/agent_ppo\") if if_using_ppo else None"
   ]
  },
  {
   "cell_type": "markdown",
   "metadata": {},
   "source": [
    "#### Agent 4: TD3"
   ]
  },
  {
   "cell_type": "code",
   "execution_count": null,
   "metadata": {},
   "outputs": [],
   "source": [
    "agent = DRLAgent(env = env_train)\n",
    "TD3_PARAMS = {\"batch_size\": 100, \n",
    "              \"buffer_size\": 1000000, \n",
    "              \"learning_rate\": 0.001}\n",
    "\n",
    "model_td3 = agent.get_model(\"td3\",model_kwargs = TD3_PARAMS)\n",
    "\n",
    "if if_using_td3:\n",
    "  # set up logger\n",
    "  tmp_path = RESULTS_DIR + '/td3'\n",
    "  new_logger_td3 = configure(tmp_path, [\"stdout\", \"csv\", \"tensorboard\"])\n",
    "  # Set new logger\n",
    "  model_td3.set_logger(new_logger_td3)"
   ]
  },
  {
   "cell_type": "code",
   "execution_count": 27,
   "metadata": {},
   "outputs": [],
   "source": [
    "trained_td3 = agent.train_model(model=model_td3, \n",
    "                             tb_log_name='td3',\n",
    "                             total_timesteps=50000) if if_using_td3 else None"
   ]
  },
  {
   "cell_type": "code",
   "execution_count": 28,
   "metadata": {},
   "outputs": [],
   "source": [
    "trained_td3.save(TRAINED_MODEL_DIR + \"/agent_td3\") if if_using_td3 else None"
   ]
  },
  {
   "cell_type": "markdown",
   "metadata": {},
   "source": [
    "#### Agent 5: SAC"
   ]
  },
  {
   "cell_type": "code",
   "execution_count": null,
   "metadata": {},
   "outputs": [],
   "source": [
    "agent = DRLAgent(env = env_train)\n",
    "SAC_PARAMS = {\n",
    "    \"batch_size\": 128,\n",
    "    \"buffer_size\": 100000,\n",
    "    \"learning_rate\": 0.0001,\n",
    "    \"learning_starts\": 100,\n",
    "    \"ent_coef\": \"auto_0.1\",\n",
    "}\n",
    "\n",
    "model_sac = agent.get_model(\"sac\",model_kwargs = SAC_PARAMS)\n",
    "\n",
    "if if_using_sac:\n",
    "  # set up logger\n",
    "  tmp_path = RESULTS_DIR + '/sac'\n",
    "  new_logger_sac = configure(tmp_path, [\"stdout\", \"csv\", \"tensorboard\"])\n",
    "  # Set new logger\n",
    "  model_sac.set_logger(new_logger_sac)"
   ]
  },
  {
   "cell_type": "code",
   "execution_count": 30,
   "metadata": {},
   "outputs": [],
   "source": [
    "trained_sac = agent.train_model(model=model_sac, \n",
    "                             tb_log_name='sac',\n",
    "                             total_timesteps=70000) if if_using_sac else None"
   ]
  },
  {
   "cell_type": "code",
   "execution_count": 31,
   "metadata": {},
   "outputs": [],
   "source": [
    "trained_sac.save(TRAINED_MODEL_DIR + \"/agent_sac\") if if_using_sac else None"
   ]
  },
  {
   "cell_type": "markdown",
   "metadata": {},
   "source": [
    "## 6. Preparation for backtest"
   ]
  },
  {
   "cell_type": "code",
   "execution_count": 32,
   "metadata": {},
   "outputs": [],
   "source": [
    "# If necessary, we load the delayed data if we have restarted the process (not needed)\n",
    "train = pd.read_csv(DATA_DIR + '/train_data.csv')\n",
    "trade = pd.read_csv(DATA_DIR + '/trade_data.csv')\n",
    "\n",
    "train = train.set_index(train.columns[0])\n",
    "train.index.names = ['']\n",
    "trade = trade.set_index(trade.columns[0])\n",
    "trade.index.names = ['']"
   ]
  },
  {
   "cell_type": "code",
   "execution_count": 33,
   "metadata": {},
   "outputs": [],
   "source": [
    "# If necessary, we load the delayed training data if we have restarted the process (not needed)\n",
    "if_using_a2c = False\n",
    "if_using_ddpg = False\n",
    "if_using_ppo = True\n",
    "if_using_td3 = False\n",
    "if_using_sac = False\n",
    "\n",
    "trained_a2c = A2C.load(TRAINED_MODEL_DIR + \"/agent_a2c\") if if_using_a2c else None\n",
    "trained_ddpg = DDPG.load(TRAINED_MODEL_DIR + \"/agent_ddpg\") if if_using_ddpg else None\n",
    "trained_ppo = PPO.load(TRAINED_MODEL_DIR + \"/agent_ppo\") if if_using_ppo else None\n",
    "trained_td3 = TD3.load(TRAINED_MODEL_DIR + \"/agent_td3\") if if_using_td3 else None\n",
    "trained_sac = SAC.load(TRAINED_MODEL_DIR + \"/agent_sac\") if if_using_sac else None"
   ]
  },
  {
   "cell_type": "markdown",
   "metadata": {},
   "source": [
    "## 7. Trading (data outside the training set)"
   ]
  },
  {
   "cell_type": "markdown",
   "metadata": {},
   "source": [
    "Here we now use the trade dataset for trading, which has never been used for training. Additionally, with a similar approach, we could fine-tune the existing saved model.\n",
    "\n",
    "Numerous hyperparameters, such as the learning rate and the total number of training samples, affect the learning process and are usually determined by testing some variations."
   ]
  },
  {
   "cell_type": "code",
   "execution_count": null,
   "metadata": {},
   "outputs": [],
   "source": [
    "stock_dimension = len(trade.tic.unique())\n",
    "state_space = 1 + 2*stock_dimension + len(INDICATORS)*stock_dimension + len(FUNDAMENTAL_INDICATORS)*stock_dimension\n",
    "print(f\"Stock Dimension: {stock_dimension}, State Space: {state_space}\")"
   ]
  },
  {
   "cell_type": "code",
   "execution_count": 35,
   "metadata": {},
   "outputs": [],
   "source": [
    "buy_cost_list = sell_cost_list = [0] * stock_dimension\n",
    "num_stock_shares = [0] * stock_dimension\n",
    "\n",
    "env_kwargs = {\n",
    "    \"hmax\": 1000,\n",
    "    \"initial_amount\": 100000,\n",
    "    \"num_stock_shares\": num_stock_shares,\n",
    "    \"buy_cost_pct\": buy_cost_list,\n",
    "    \"sell_cost_pct\": sell_cost_list,\n",
    "    \"state_space\": state_space,\n",
    "    \"stock_dim\": stock_dimension,\n",
    "    \"tech_indicator_list\": INDICATORS,\n",
    "    \"fundamental_indicator_list\": FUNDAMENTAL_INDICATORS,\n",
    "    \"action_space\": stock_dimension,\n",
    "    \"reward_scaling\": 1e-2,\n",
    "    \"verbose\": 1\n",
    "}"
   ]
  },
  {
   "cell_type": "markdown",
   "metadata": {},
   "source": [
    "This section relates to the use of deep reinforcement learning (DRL) for simulating real-time trading using a previously trained model (in this case, A2C). StockTradingEnv is an environment that simulates the stock market based on historical data, a turbulence threshold (which is used to determine market volatility), and 'VIX' as a risk indicator. After initializing the environment, the get_sb_env() method is used to retrieve the environment and initial observations that are compatible with the Stable Baselines library."
   ]
  },
  {
   "cell_type": "code",
   "execution_count": null,
   "metadata": {},
   "outputs": [],
   "source": [
    "# Initialization of the trading environment with the defined DataFrame 'trade', turbulence threshold, and risk indicator 'vix',\n",
    "# along with other environment parameters ('env_kwargs').\n",
    "e_trade_gym = StockTradingEnv(df = trade, **env_kwargs)\n",
    "\n",
    "# Retrieving the environment compatible with Stable Baselines and initial observations.\n",
    "env_trade, obs_trade = e_trade_gym.get_sb_env()"
   ]
  },
  {
   "cell_type": "markdown",
   "metadata": {},
   "source": [
    "The DRL agent is then used to predict trading actions and changes in account value based on the trained model. This allows for the evaluation of the model's performance in an out-of-sample scenario, providing insight into how the model might perform in real trading conditions. If the use of the A2C algorithm is selected (as indicated by the variable if_using_a2c), predictions are made; otherwise, the result is set to None."
   ]
  },
  {
   "cell_type": "code",
   "execution_count": 37,
   "metadata": {},
   "outputs": [],
   "source": [
    "# Using the DRL agent for prediction using the trained model 'trained_a2c' and the defined trading environment 'e_trade_gym'.\n",
    "# The results are two DataFrames: 'df_account_value_a2c' with account values and 'df_actions_a2c' with the actions taken,\n",
    "# if 'if_using_a2c' is set to True; otherwise, it returns (None, None).\n",
    "df_account_value_a2c, df_actions_a2c = DRLAgent.DRL_prediction(\n",
    "    model=trained_a2c, \n",
    "    environment = e_trade_gym) if if_using_a2c else (None, None)"
   ]
  },
  {
   "cell_type": "code",
   "execution_count": 38,
   "metadata": {},
   "outputs": [],
   "source": [
    "df_account_value_ddpg, df_actions_ddpg = DRLAgent.DRL_prediction(\n",
    "    model=trained_ddpg, \n",
    "    environment = e_trade_gym) if if_using_ddpg else (None, None)"
   ]
  },
  {
   "cell_type": "code",
   "execution_count": null,
   "metadata": {},
   "outputs": [],
   "source": [
    "df_account_value_ppo, df_actions_ppo = DRLAgent.DRL_prediction(\n",
    "    model=trained_ppo, \n",
    "    environment = e_trade_gym) if if_using_ppo else (None, None)"
   ]
  },
  {
   "cell_type": "code",
   "execution_count": 40,
   "metadata": {},
   "outputs": [],
   "source": [
    "df_account_value_td3, df_actions_td3 = DRLAgent.DRL_prediction(\n",
    "    model=trained_td3, \n",
    "    environment = e_trade_gym) if if_using_td3 else (None, None)"
   ]
  },
  {
   "cell_type": "code",
   "execution_count": 41,
   "metadata": {},
   "outputs": [],
   "source": [
    "df_account_value_sac, df_actions_sac = DRLAgent.DRL_prediction(\n",
    "    model=trained_sac, \n",
    "    environment = e_trade_gym) if if_using_sac else (None, None)"
   ]
  },
  {
   "cell_type": "markdown",
   "metadata": {},
   "source": [
    "## 8. B&H za usporedbu"
   ]
  },
  {
   "cell_type": "code",
   "execution_count": null,
   "metadata": {},
   "outputs": [],
   "source": [
    "df_aapl = YahooDownloader(start_date = TRADE_START_DATE,\n",
    "                     end_date = TRADE_END_DATE,\n",
    "                     ticker_list = ['CRM']).fetch_data()"
   ]
  },
  {
   "cell_type": "code",
   "execution_count": 43,
   "metadata": {},
   "outputs": [],
   "source": [
    "df_aapl = df_aapl[['date','close']]\n",
    "fst_day = df_aapl['close'].iloc[0]\n",
    "buy_and_hold = pd.merge(df_aapl['date'], df_aapl['close'].div(fst_day).mul(100000), \n",
    "                        how='outer', left_index=True, right_index=True).set_index('date')"
   ]
  },
  {
   "cell_type": "markdown",
   "metadata": {},
   "source": [
    "## 10. Backtesting models"
   ]
  },
  {
   "cell_type": "code",
   "execution_count": 44,
   "metadata": {},
   "outputs": [],
   "source": [
    "# Setting the index of the account value DataFrames for each of the DRL strategies, if selected.\n",
    "df_result_a2c = df_account_value_a2c.set_index(df_account_value_a2c.columns[0]) if if_using_a2c else None\n",
    "df_result_ddpg = df_account_value_ddpg.set_index(df_account_value_ddpg.columns[0]) if if_using_ddpg else None\n",
    "df_result_ppo = df_account_value_ppo.set_index(df_account_value_ppo.columns[0]) if if_using_ppo else None\n",
    "df_result_td3 = df_account_value_td3.set_index(df_account_value_td3.columns[0]) if if_using_td3 else None\n",
    "df_result_sac = df_account_value_sac.set_index(df_account_value_sac.columns[0]) if if_using_sac else None\n",
    "\n",
    "# Creating an empty DataFrame for results.\n",
    "result = pd.DataFrame()\n",
    "\n",
    "# Merging the results of all DRL strategies into one DataFrame, if selected.\n",
    "if if_using_a2c: result = pd.merge(result, df_result_a2c, how='outer', left_index=True, right_index=True)\n",
    "if if_using_ddpg: result = pd.merge(result, df_result_ddpg, how='outer', left_index=True, right_index=True, suffixes=('', '_drop'))\n",
    "if if_using_ppo: result = pd.merge(result, df_result_ppo, how='outer', left_index=True, right_index=True, suffixes=('', '_drop'))\n",
    "if if_using_td3: result = pd.merge(result, df_result_td3, how='outer', left_index=True, right_index=True, suffixes=('', '_drop'))\n",
    "if if_using_sac: result = pd.merge(result, df_result_sac, how='outer', left_index=True, right_index=True, suffixes=('', '_drop'))\n",
    "\n",
    "# Merging the results of the mean variance optimization and the DJIA index with the main results.\n",
    "result = pd.merge(result, buy_and_hold, how='outer', left_index=True, right_index=True)"
   ]
  },
  {
   "cell_type": "code",
   "execution_count": 45,
   "metadata": {},
   "outputs": [],
   "source": [
    "# Adding column names based on the selected strategies.\n",
    "col_name = []\n",
    "col_name.append('A2C') if if_using_a2c else None\n",
    "col_name.append('DDPG') if if_using_ddpg else None\n",
    "col_name.append('PPO') if if_using_ppo else None\n",
    "col_name.append('TD3') if if_using_td3 else None\n",
    "col_name.append('SAC') if if_using_sac else None\n",
    "col_name.append('B&H')\n",
    "result.columns = col_name"
   ]
  },
  {
   "cell_type": "code",
   "execution_count": null,
   "metadata": {},
   "outputs": [],
   "source": [
    "# Displaying the results\n",
    "result.head()"
   ]
  },
  {
   "cell_type": "markdown",
   "metadata": {},
   "source": [
    "### Here we plot a graph that shows the total portfolio value over time for each strategy and the benchmark"
   ]
  },
  {
   "cell_type": "code",
   "execution_count": null,
   "metadata": {},
   "outputs": [],
   "source": [
    "# Setting the figure size for the plots and drawing the performance charts of the trading strategies.\n",
    "plt.rcParams[\"figure.figsize\"] = (15,5)\n",
    "plt.figure()\n",
    "result.plot()"
   ]
  },
  {
   "cell_type": "markdown",
   "metadata": {},
   "source": [
    "Based on the portfolio values, we calculate daily returns"
   ]
  },
  {
   "cell_type": "code",
   "execution_count": null,
   "metadata": {},
   "outputs": [],
   "source": [
    "from pyfolio import timeseries\n",
    "import pandas as pd\n",
    "\n",
    "# List of strategies for which you want to generate statistics\n",
    "strategies = ['A2C', 'DDPG', 'PPO', 'TD3', 'SAC', \"B&H\"]\n",
    "\n",
    "for strategy in strategies:\n",
    "    column_name = f'{strategy}'\n",
    "    if column_name in result.columns:\n",
    "        # Calculating daily returns from portfolio values\n",
    "        result[f'{strategy}_returns'] = result[column_name].pct_change()"
   ]
  },
  {
   "cell_type": "code",
   "execution_count": null,
   "metadata": {},
   "outputs": [],
   "source": [
    "result.head()"
   ]
  },
  {
   "cell_type": "markdown",
   "metadata": {},
   "source": [
    "### Calculating returns for the selected strategy"
   ]
  },
  {
   "cell_type": "code",
   "execution_count": null,
   "metadata": {},
   "outputs": [],
   "source": [
    "# We assume that the result DataFrame already contains portfolio values for each strategy\n",
    "for strategy in strategies:\n",
    "    # Check if the strategy exists in the DataFrame\n",
    "    if f'{strategy}_returns' in result.columns:\n",
    "        # Extract daily returns for the current strategy\n",
    "        returns = result[f'{strategy}_returns'].dropna()\n",
    "        returns.index = pd.to_datetime(returns.index)\n",
    "\n",
    "        # Calculate performance statistics for the current strategy\n",
    "        perf_stats = timeseries.perf_stats(returns=returns, factor_returns=None, positions=None, transactions=None, turnover_denom=\"AGB\")\n",
    "\n",
    "        # Print performance statistics\n",
    "        print(f\"==============Strategy Stats ({strategy})==============\")\n",
    "        print(perf_stats)\n",
    "        print(\"\\n\")\n",
    "    else:\n",
    "        print(f\"Strategy {strategy} was not found in results.\\n\")"
   ]
  },
  {
   "cell_type": "markdown",
   "metadata": {},
   "source": [
    "### Plotting cumulative returns for each strategy"
   ]
  },
  {
   "cell_type": "code",
   "execution_count": null,
   "metadata": {},
   "outputs": [],
   "source": [
    "import matplotlib.pyplot as plt\n",
    "import matplotlib.dates as mdates\n",
    "import pandas as pd\n",
    "\n",
    "# Setting the figure size for the plot\n",
    "plt.figure(figsize=(12, 6))\n",
    "\n",
    "# Iterating through each strategy and plotting its cumulative returns\n",
    "for strategy in strategies:\n",
    "    if f'{strategy}_returns' in result.columns:\n",
    "        # Make sure dates are properly parsed\n",
    "        result.index = pd.to_datetime(result.index)\n",
    "        \n",
    "        # Extracting daily returns for the current strategy and converting to decimal format if necessary\n",
    "        returns = result[f'{strategy}_returns'].dropna() + 1  # Adds 1 for using cumprod()\n",
    "        \n",
    "        # Calculating cumulative returns and converting to percentage\n",
    "        cumulative_returns = (returns.cumprod() - 1) * 100  # Convert to percentage\n",
    "        \n",
    "        # Plotting cumulative returns with original colors\n",
    "        plt.plot(cumulative_returns.index, cumulative_returns, label=strategy)\n",
    "\n",
    "# Format y-axis as percentages\n",
    "plt.gca().yaxis.set_major_formatter(plt.FuncFormatter(lambda y, _: '{:.0f}%'.format(y)))\n",
    "plt.ylabel('Cumulative Returns (%)')\n",
    "plt.xlabel('Date')\n",
    "\n",
    "# Format x-axis dates\n",
    "plt.gca().xaxis.set_major_locator(mdates.MonthLocator())\n",
    "plt.gca().xaxis.set_major_formatter(mdates.DateFormatter('%Y-%m-%d'))\n",
    "\n",
    "# Make sure dates are in the correct format and rotated\n",
    "plt.gcf().autofmt_xdate()\n",
    "\n",
    "# Adding title and legend\n",
    "#plt.title('Cumulative Returns of DRL Strategies')\n",
    "plt.legend(loc='upper right')\n",
    "\n",
    "# Add grid with light gray color\n",
    "plt.grid(True, linestyle='-', alpha=0.2)\n",
    "\n",
    "# Adjust layout to prevent label cutoff\n",
    "plt.tight_layout()\n",
    "\n",
    "# Displaying the plot\n",
    "plt.show()"
   ]
  },
  {
   "cell_type": "markdown",
   "metadata": {},
   "source": [
    "### Saving results to CSV\n",
    "Needs to be changed for each agent"
   ]
  },
  {
   "cell_type": "code",
   "execution_count": 52,
   "metadata": {},
   "outputs": [],
   "source": [
    "import pickle\n",
    "\n",
    "# For df_account_value_sac\n",
    "with open('results/4. CRM/crm_primorl_df_account_value_ppo.pkl', 'wb') as f:\n",
    "    pickle.dump(df_account_value_ppo, f)\n",
    "    \n",
    "# For df_actions_td3\n",
    "with open('results/4. CRM/crm_primorl_df_actions_ppo.pkl', 'wb') as f:\n",
    "    pickle.dump(df_actions_ppo, f)\n",
    "\n",
    "# For buy_and_hold\n",
    "with open('results/4. CRM/crm_primorl_buy_and_hold.pkl', 'wb') as f:\n",
    "    pickle.dump(buy_and_hold, f)"
   ]
  }
 ],
 "metadata": {
  "kernelspec": {
   "display_name": "base",
   "language": "python",
   "name": "python3"
  },
  "language_info": {
   "codemirror_mode": {
    "name": "ipython",
    "version": 3
   },
   "file_extension": ".py",
   "mimetype": "text/x-python",
   "name": "python",
   "nbconvert_exporter": "python",
   "pygments_lexer": "ipython3",
   "version": "3.12.9"
  }
 },
 "nbformat": 4,
 "nbformat_minor": 2
}
