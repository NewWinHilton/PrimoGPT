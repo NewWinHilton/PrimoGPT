{
 "cells": [
  {
   "cell_type": "markdown",
   "metadata": {},
   "source": [
    "## 1. Učitavanje potrebnih paketa"
   ]
  },
  {
   "cell_type": "code",
   "execution_count": 130,
   "metadata": {},
   "outputs": [],
   "source": [
    "# Standardne biblioteke\n",
    "import sys\n",
    "sys.path.append('../../')\n",
    "\n",
    "import itertools\n",
    "\n",
    "# Analiza podataka\n",
    "import pandas as pd\n",
    "import numpy as np\n",
    "import matplotlib.pyplot as plt\n",
    "\n",
    "# FinRL i stable_baselines3 za strojno učenje i trgovanje\n",
    "from finrl.meta.preprocessor.yahoodownloader import YahooDownloader\n",
    "from finrl.meta.preprocessor.preprocessors import FeatureEngineer, data_split\n",
    "from finrl.meta.env_primo_trading.env_primorl import StockTradingEnv\n",
    "from finrl.agents.stablebaselines3.models import DRLAgent\n",
    "from stable_baselines3 import A2C, DDPG, PPO, SAC, TD3\n",
    "from stable_baselines3.common.logger import configure\n",
    "\n",
    "# Konfiguracijski fajlovi i pomoćne funkcije iz FinRL\n",
    "from finrl.config import INDICATORS, FUNDAMENTAL_INDICATORS\n",
    "from finrl.main import check_and_make_directories\n",
    "\n",
    "# Omogućavanje prikaza grafikona unutar Jupyter bilježnice\n",
    "%matplotlib inline\n",
    "\n",
    "TRAINED_MODEL_DIR = 'files/models_PORTFOLIO'\n",
    "RESULTS_DIR = 'files/results_PORTFOLIO'\n",
    "DATA_DIR = 'files/data_PORTFOLIO'\n",
    "\n",
    "# Provjera i kreiranje direktorija\n",
    "check_and_make_directories([TRAINED_MODEL_DIR, DATA_DIR])"
   ]
  },
  {
   "cell_type": "markdown",
   "metadata": {},
   "source": [
    "## 2. Dohvat podataka"
   ]
  },
  {
   "cell_type": "markdown",
   "metadata": {},
   "source": [
    "Imamo klasu nazvanu YahooDownloader koja koristi yfinance za dohvaćanje podataka s Yahoo Finance.\n",
    "\n",
    "U YahooDownloader-u FinRL-a, modificirali smo okvir podataka u oblik koji je pogodan za daljnju obradu podataka. Koristimo prilagođenu zatvarajuću cijenu umjesto zatvarajuće cijene i dodajemo stupac koji predstavlja dan u tjednu (0-4 što odgovara ponedjeljku-petku)."
   ]
  },
  {
   "cell_type": "code",
   "execution_count": 131,
   "metadata": {},
   "outputs": [],
   "source": [
    "# Intervali za trening i trgovanje\n",
    "TRAIN_START_DATE = '2022-04-01'\n",
    "TRAIN_END_DATE = '2024-07-31'\n",
    "TRADE_START_DATE = '2024-08-01'\n",
    "TRADE_END_DATE = '2025-02-28'"
   ]
  },
  {
   "cell_type": "markdown",
   "metadata": {},
   "source": [
    "Učitavamo podatke iz CSV datoteke koja sadrži generirane značajke od strane PrimoGPT modela."
   ]
  },
  {
   "cell_type": "code",
   "execution_count": 132,
   "metadata": {},
   "outputs": [],
   "source": [
    "# Lista dionica\n",
    "stocks = [\"AAPL\", \"NFLX\", \"MSFT\", \"CRM\", \"AMZN\"]\n",
    "\n",
    "# Učitavanje podataka za svaku dionicu\n",
    "for stock in stocks:\n",
    "    file_path = f'data/{stock}_data.csv'\n",
    "    df_name = f'gpt_predictions_{stock.lower()}'\n",
    "    \n",
    "    # Učitavanje CSV datoteke\n",
    "    globals()[df_name] = pd.read_csv(file_path)\n",
    "    \n",
    "    # Preimenovanje stupca 'Date' u 'date'\n",
    "    globals()[df_name] = globals()[df_name].rename(columns={'Date': 'date'})\n",
    "    \n",
    "    # Dodavanje stupca 'tic' s oznakom dionice\n",
    "    globals()[df_name]['tic'] = stock"
   ]
  },
  {
   "cell_type": "code",
   "execution_count": null,
   "metadata": {},
   "outputs": [],
   "source": [
    "gpt_predictions_aapl.head()\n"
   ]
  },
  {
   "cell_type": "code",
   "execution_count": null,
   "metadata": {},
   "outputs": [],
   "source": [
    "# Preuzimamo sve podatke\n",
    "df_raw = YahooDownloader(start_date = TRAIN_START_DATE,\n",
    "                         end_date = TRADE_END_DATE,\n",
    "                         ticker_list = [\"AAPL\", \"NFLX\", \"MSFT\", \"CRM\", \"AMZN\"]).fetch_data()"
   ]
  },
  {
   "cell_type": "code",
   "execution_count": null,
   "metadata": {},
   "outputs": [],
   "source": [
    "df_raw.head()"
   ]
  },
  {
   "cell_type": "markdown",
   "metadata": {},
   "source": [
    "## 3. Procesiranje podataka"
   ]
  },
  {
   "cell_type": "markdown",
   "metadata": {},
   "source": [
    "Koristimo definiranu klasu FeatureEngineer pomoću koje radimo procesiranje podataka i dodavanje tehničkih indikatora.\n",
    "\n",
    "Opcija use_vix uključuje VIX indeks, poznat kao \"indeks straha\", koji predstavlja očekivanu volatilnost tržišta dionica temeljenu na opcijama S&P 500 indeksa. VIX pomaže modelu da razumije tržišnu nesigurnost, s višim vrijednostima koje ukazuju na veću nesigurnost.\n",
    "\n",
    "Opcija use_turbulence uključuje indeks turbulencije, koji mjeri neobične tržišne fluktuacije i služi kao pokazatelj rizika i tržišnih šokova. Koristan je za identifikaciju perioda visoke volatilnosti, pomažući modelu da se prilagodi financijskim krizama.\n",
    "\n",
    "Inače dosta zgodna klasa koja sadrži korisne metode za obradu financijskih podataka i može se primjeniti u brojne druge svrhe."
   ]
  },
  {
   "cell_type": "code",
   "execution_count": null,
   "metadata": {},
   "outputs": [],
   "source": [
    "fe = FeatureEngineer(use_technical_indicator=True,\n",
    "                     tech_indicator_list = INDICATORS,\n",
    "                     use_vix=True,\n",
    "                     use_turbulence=True,\n",
    "                     user_defined_feature = False)\n",
    "\n",
    "processed = fe.preprocess_data(df_raw)"
   ]
  },
  {
   "cell_type": "code",
   "execution_count": 137,
   "metadata": {},
   "outputs": [],
   "source": [
    "# Stvara listu jedinstvenih oznaka dionica (tickers) iz stupca 'tic' DataFrame-a 'processed'.\n",
    "list_ticker = processed[\"tic\"].unique().tolist()\n",
    "\n",
    "# Stvara listu datuma između najranijeg i najkasnijeg datuma u DataFrame-u 'processed', pretvara ih u stringove.\n",
    "list_date = list(pd.date_range(processed['date'].min(),processed['date'].max()).astype(str))\n",
    "\n",
    "# Stvara kombinacije svih datuma i oznaka dionica koristeći kartezijev produkt.\n",
    "combination = list(itertools.product(list_date,list_ticker))\n",
    "\n",
    "# Stvara novi DataFrame 'processed_full' s kolonama \"date\" i \"tic\", koji sadrži sve kombinacije datuma i oznaka dionica.\n",
    "# Spaja taj DataFrame s originalnim DataFrame-om 'processed' na temelju kolona \"date\" i \"tic\", koristeći 'left' spajanje.\n",
    "processed_full = pd.DataFrame(combination,columns=[\"date\",\"tic\"]).merge(processed,on=[\"date\",\"tic\"],how=\"left\")\n",
    "\n",
    "# Filtrira 'processed_full' DataFrame da sadrži samo one retke čiji su datumi prisutni u originalnom DataFrame-u 'processed'.\n",
    "processed_full = processed_full[processed_full['date'].isin(processed['date'])]\n",
    "\n",
    "# Sortira 'processed_full' DataFrame po datumu i oznaci dionica.\n",
    "processed_full = processed_full.sort_values(['date','tic'])\n",
    "\n",
    "# Zamjenjuje sve nedostajuće vrijednosti (NaN) s 0 u DataFrame-u 'processed_full'.\n",
    "processed_full = processed_full.fillna(0)"
   ]
  },
  {
   "cell_type": "code",
   "execution_count": null,
   "metadata": {},
   "outputs": [],
   "source": [
    "processed_full.head()"
   ]
  },
  {
   "cell_type": "markdown",
   "metadata": {},
   "source": [
    "Radimo spajanje ovih preuzetih podataka s podacima iz CSV datoteke koja sadrži generirane značajke od strane PrimoGPT modela."
   ]
  },
  {
   "cell_type": "code",
   "execution_count": 139,
   "metadata": {},
   "outputs": [],
   "source": [
    "# Stupci koje želimo zadržati iz GPT predikcija\n",
    "columns_to_keep = ['date', 'News Relevance', 'Sentiment', 'Price Impact Potential', \n",
    "                   'Trend Direction', 'Earnings Impact', 'Investor Confidence', 'Risk Profile Change']\n",
    "\n",
    "# Mapiranje za preimenovanje stupaca\n",
    "column_mapping = {\n",
    "    'News Relevance': 'news_relevance',\n",
    "    'Sentiment': 'sentiment',\n",
    "    'Price Impact Potential': 'price_impact_potential',\n",
    "    'Trend Direction': 'trend_direction',\n",
    "    'Earnings Impact': 'earnings_impact',\n",
    "    'Investor Confidence': 'investor_confidence',\n",
    "    'Risk Profile Change': 'risk_profile_change'\n",
    "}\n",
    "\n",
    "# Priprema podataka za AAPL\n",
    "gpt_data_aapl = gpt_predictions_aapl[columns_to_keep]\n",
    "gpt_data_aapl = gpt_data_aapl.rename(columns=column_mapping)\n",
    "gpt_data_aapl['tic'] = 'AAPL'\n",
    "\n",
    "# Spajanje podataka samo za AAPL redove\n",
    "processed_full = processed_full.merge(gpt_data_aapl, on=['date', 'tic'], how='left')\n",
    "\n",
    "# Popunjavanje NaN vrijednosti s 0 samo za nove stupce\n",
    "new_columns = list(column_mapping.values())\n",
    "processed_full[new_columns] = processed_full[new_columns].fillna(0)\n"
   ]
  },
  {
   "cell_type": "code",
   "execution_count": 140,
   "metadata": {},
   "outputs": [],
   "source": [
    "# Mapiranje za preimenovanje stupaca\n",
    "column_mapping = {\n",
    "    'News Relevance': 'news_relevance',\n",
    "    'Sentiment': 'sentiment',\n",
    "    'Price Impact Potential': 'price_impact_potential',\n",
    "    'Trend Direction': 'trend_direction',\n",
    "    'Earnings Impact': 'earnings_impact',\n",
    "    'Investor Confidence': 'investor_confidence',\n",
    "    'Risk Profile Change': 'risk_profile_change'\n",
    "}\n",
    "\n",
    "# Priprema podataka za NFLX\n",
    "gpt_data_nflx = gpt_predictions_nflx[['date'] + list(column_mapping.keys())]\n",
    "gpt_data_nflx = gpt_data_nflx.rename(columns=column_mapping)\n",
    "gpt_data_nflx['tic'] = 'NFLX'\n",
    "\n",
    "# Ažuriranje podataka samo za NFLX redove\n",
    "for column in column_mapping.values():\n",
    "    processed_full.loc[processed_full['tic'] == 'NFLX', column] = processed_full.loc[processed_full['tic'] == 'NFLX'].merge(\n",
    "        gpt_data_nflx[['date', 'tic', column]], \n",
    "        on=['date', 'tic'], \n",
    "        how='left'\n",
    "    )[f'{column}_y'].fillna(processed_full[column])"
   ]
  },
  {
   "cell_type": "code",
   "execution_count": 141,
   "metadata": {},
   "outputs": [],
   "source": [
    "# Mapiranje za preimenovanje stupaca\n",
    "column_mapping = {\n",
    "    'News Relevance': 'news_relevance',\n",
    "    'Sentiment': 'sentiment',\n",
    "    'Price Impact Potential': 'price_impact_potential',\n",
    "    'Trend Direction': 'trend_direction',\n",
    "    'Earnings Impact': 'earnings_impact',\n",
    "    'Investor Confidence': 'investor_confidence',\n",
    "    'Risk Profile Change': 'risk_profile_change'\n",
    "}\n",
    "\n",
    "# Priprema podataka za NFLX\n",
    "gpt_data_msft = gpt_predictions_msft[['date'] + list(column_mapping.keys())]\n",
    "gpt_data_msft = gpt_data_msft.rename(columns=column_mapping)\n",
    "gpt_data_msft['tic'] = 'MSFT'\n",
    "\n",
    "# Ažuriranje podataka samo za NFLX redove\n",
    "for column in column_mapping.values():\n",
    "    processed_full.loc[processed_full['tic'] == 'MSFT', column] = processed_full.loc[processed_full['tic'] == 'MSFT'].merge(\n",
    "        gpt_data_msft[['date', 'tic', column]], \n",
    "        on=['date', 'tic'], \n",
    "        how='left'\n",
    "    )[f'{column}_y'].fillna(processed_full[column])"
   ]
  },
  {
   "cell_type": "code",
   "execution_count": 142,
   "metadata": {},
   "outputs": [],
   "source": [
    "# Mapiranje za preimenovanje stupaca\n",
    "column_mapping = {\n",
    "    'News Relevance': 'news_relevance',\n",
    "    'Sentiment': 'sentiment',\n",
    "    'Price Impact Potential': 'price_impact_potential',\n",
    "    'Trend Direction': 'trend_direction',\n",
    "    'Earnings Impact': 'earnings_impact',\n",
    "    'Investor Confidence': 'investor_confidence',\n",
    "    'Risk Profile Change': 'risk_profile_change'\n",
    "}\n",
    "\n",
    "# Priprema podataka za NFLX\n",
    "gpt_data_crm = gpt_predictions_crm[['date'] + list(column_mapping.keys())]\n",
    "gpt_data_crm = gpt_data_crm.rename(columns=column_mapping)\n",
    "gpt_data_crm['tic'] = 'CRM'\n",
    "\n",
    "# Ažuriranje podataka samo za NFLX redove\n",
    "for column in column_mapping.values():\n",
    "    processed_full.loc[processed_full['tic'] == 'CRM', column] = processed_full.loc[processed_full['tic'] == 'CRM'].merge(\n",
    "        gpt_data_crm[['date', 'tic', column]], \n",
    "        on=['date', 'tic'], \n",
    "        how='left'\n",
    "    )[f'{column}_y'].fillna(processed_full[column])"
   ]
  },
  {
   "cell_type": "code",
   "execution_count": 143,
   "metadata": {},
   "outputs": [],
   "source": [
    "# Mapiranje za preimenovanje stupaca\n",
    "column_mapping = {\n",
    "    'News Relevance': 'news_relevance',\n",
    "    'Sentiment': 'sentiment',\n",
    "    'Price Impact Potential': 'price_impact_potential',\n",
    "    'Trend Direction': 'trend_direction',\n",
    "    'Earnings Impact': 'earnings_impact',\n",
    "    'Investor Confidence': 'investor_confidence',\n",
    "    'Risk Profile Change': 'risk_profile_change'\n",
    "}\n",
    "\n",
    "# Priprema podataka za NFLX\n",
    "gpt_data_amzn = gpt_predictions_amzn[['date'] + list(column_mapping.keys())]\n",
    "gpt_data_amzn = gpt_data_amzn.rename(columns=column_mapping)\n",
    "gpt_data_amzn['tic'] = 'AMZN'\n",
    "\n",
    "# Ažuriranje podataka samo za NFLX redove\n",
    "for column in column_mapping.values():\n",
    "    processed_full.loc[processed_full['tic'] == 'AMZN', column] = processed_full.loc[processed_full['tic'] == 'AMZN'].merge(\n",
    "        gpt_data_amzn[['date', 'tic', column]], \n",
    "        on=['date', 'tic'], \n",
    "        how='left'\n",
    "    )[f'{column}_y'].fillna(processed_full[column])"
   ]
  },
  {
   "cell_type": "code",
   "execution_count": 144,
   "metadata": {},
   "outputs": [],
   "source": [
    "# Zamjenjuje sve nedostajuće vrijednosti (NaN) s 0 u DataFrame-u 'processed_full'.\n",
    "processed_full = processed_full.fillna(0)"
   ]
  },
  {
   "cell_type": "code",
   "execution_count": null,
   "metadata": {},
   "outputs": [],
   "source": [
    "processed_full.head()"
   ]
  },
  {
   "cell_type": "code",
   "execution_count": null,
   "metadata": {},
   "outputs": [],
   "source": [
    "# Pripremamo trening i trade set sukladno definiranim datumima\n",
    "train = data_split(processed_full, TRAIN_START_DATE,TRAIN_END_DATE)\n",
    "trade = data_split(processed_full, TRADE_START_DATE,TRADE_END_DATE)\n",
    "print(len(train))\n",
    "print(len(trade))"
   ]
  },
  {
   "cell_type": "code",
   "execution_count": 147,
   "metadata": {},
   "outputs": [],
   "source": [
    "# Spremamo podatke\n",
    "train.to_csv('train_data.csv')\n",
    "trade.to_csv('trade_data.csv')"
   ]
  },
  {
   "cell_type": "markdown",
   "metadata": {},
   "source": [
    "## 4. Priprema environmenta"
   ]
  },
  {
   "cell_type": "markdown",
   "metadata": {},
   "source": [
    "stock_dimension predstavlja broj jedinstvenih dionica u skupu podataka. Ova vrijednost se koristi za određivanje koliko različitih dionica model može trgovati.\n",
    "\n",
    "state_space označava ukupnu veličinu prostora stanja koji model koristi za donošenje odluka. Prostor stanja uključuje trenutne podatke o dionicama (kao što su cijene i tehnički indikatori) i informacije o trenutnom portfelju (kao što su broj dionica koje posjeduje). Veličina prostora stanja određena je formulom koja uzima u obzir broj dionica i broj tehničkih indikatora."
   ]
  },
  {
   "cell_type": "code",
   "execution_count": null,
   "metadata": {},
   "outputs": [],
   "source": [
    "# Izračunavamo dimenziju (broj jedinstvenih dionica) iz DataFrame-a 'train'.\n",
    "stock_dimension = len(train.tic.unique())\n",
    "\n",
    "# Izračunavamo veličinu stanja na temelju dimenzije i broja tehničkih indikatora.\n",
    "state_space = 1 + 2*stock_dimension + len(INDICATORS)*stock_dimension + len(FUNDAMENTAL_INDICATORS)*stock_dimension\n",
    "print(f\"Stock Dimension: {stock_dimension}, State Space: {state_space}\")"
   ]
  },
  {
   "cell_type": "code",
   "execution_count": 149,
   "metadata": {},
   "outputs": [],
   "source": [
    "# Stvara liste troškova kupnje i prodaje za svaku dionicu.\n",
    "buy_cost_list = sell_cost_list = [0] * stock_dimension\n",
    "\n",
    "# Inicijalizira broj dionica za svaku dionicu na 0.\n",
    "num_stock_shares = [0] * stock_dimension"
   ]
  },
  {
   "cell_type": "markdown",
   "metadata": {},
   "source": [
    "e_train_gym je instanca klase StockTradingEnv, koja predstavlja okruženje za trgovanje. Ovo okruženje koristi podatke i parametre definirane za simulaciju tržišta dionica. Model uči kako trgovati unutar ovog okruženja, pokušavajući maksimizirati ukupnu nagradu (profit) kroz seriju trgovačkih odluka.\n",
    "\n",
    "env_train dobiva se pozivom metode get_sb_env() na instanci e_train_gym. Ova metoda vraća okruženje kompatibilno s bibliotekom Stable Baselines 3, koja se koristi za implementaciju algoritama pojačanog učenja. Drugi povratni element, koji se ovdje ignorira (_), može se koristiti za dodatne informacije ili funkcionalnosti koje pruža okruženje."
   ]
  },
  {
   "cell_type": "code",
   "execution_count": null,
   "metadata": {},
   "outputs": [],
   "source": [
    "# Definira argumente za okruženje trgovanja.\n",
    "env_kwargs = {\n",
    "    \"hmax\": 1000,  # Maksimalni broj dionica koje se mogu kupiti ili prodati u jednoj transakciji.\n",
    "    \"initial_amount\": 100000,  # Početni iznos kapitala.\n",
    "    \"num_stock_shares\": num_stock_shares,  # PPočetni broj dionica svake dionice u portfelju, inicijalno postavljen na 0.\n",
    "    \"buy_cost_pct\": buy_cost_list,  # Postotci troškova za kupnju i prodaju dionica, odnosno, koji simuliraju stvarne troškove transakcija.\n",
    "    \"sell_cost_pct\": sell_cost_list,  # Postotci troškova za kupnju i prodaju dionica, odnosno, koji simuliraju stvarne troškove transakcija.\n",
    "    \"state_space\": state_space,  # Prije definirane veličine koje utječu na strukturu okruženja.\n",
    "    \"stock_dim\": stock_dimension,  # Prije definirane veličine koje utječu na strukturu okruženja.\n",
    "    \"tech_indicator_list\": INDICATORS,  # Lista tehničkih indikatora koji će se koristiti za analizu stanja tržišta.\n",
    "    \"fundamental_indicator_list\": FUNDAMENTAL_INDICATORS,  # Lista fundamentalnih indikatora koji će se koristiti za analizu stanja tržišta.\n",
    "    \"action_space\": stock_dimension,  # Veličina prostora akcija, odnosno, broj različitih akcija koje model može izvršiti.\n",
    "    \"reward_scaling\": 1e-2,  # Faktor skaliranja za nagradu, koristi se za prilagodbu veličine nagrade kako bi se olakšalo učenje.\n",
    "    \"verbose\": 0\n",
    "}\n",
    "\n",
    "# Kreira okruženje za treniranje.\n",
    "e_train_gym = StockTradingEnv(df = train, **env_kwargs)\n",
    "\n",
    "# Dohvaća okruženje pogodno za Stable Baselines i neiskorišteni objekt.\n",
    "env_train, _ = e_train_gym.get_sb_env()\n",
    "print(type(env_train))"
   ]
  },
  {
   "cell_type": "markdown",
   "metadata": {},
   "source": [
    "## 5. Trening DRL agenata"
   ]
  },
  {
   "cell_type": "markdown",
   "metadata": {},
   "source": [
    "Ovdje su algoritmi dubokog pojačanog učenja (DRL) iz biblioteke Stable Baselines 3. Radi se o biblioteci koja je implementirala popularne DRL algoritme koristeći PyTorch.\n",
    "\n",
    "Kao zamjena mogu se koristiti biblioteke ElegantRL i Ray RLlib."
   ]
  },
  {
   "cell_type": "code",
   "execution_count": 151,
   "metadata": {},
   "outputs": [],
   "source": [
    "# Kreira instancu DRL agenta s predanim okruženjem za treniranje.\n",
    "agent = DRLAgent(env = env_train)\n",
    "\n",
    "# Postavljanje odgovarajućih vrijednosti na 'True' za algoritme koje želite koristiti\n",
    "if_using_a2c = True\n",
    "if_using_ddpg = False\n",
    "if_using_ppo = True\n",
    "if_using_td3 = False\n",
    "if_using_sac = True"
   ]
  },
  {
   "cell_type": "markdown",
   "metadata": {},
   "source": [
    "### Trening 5 različitih DRL agenata (A2C, DDPG, PPO, TD3, SAC)"
   ]
  },
  {
   "cell_type": "markdown",
   "metadata": {},
   "source": [
    "#### Agent 1: A2C"
   ]
  },
  {
   "cell_type": "code",
   "execution_count": null,
   "metadata": {},
   "outputs": [],
   "source": [
    "# Ponovno se kreira instanca DRL agenta s predanim okruženjem (nije potrebno ponovno raditi, ali zbog lakših uputa neka stoji)\n",
    "agent = DRLAgent(env = env_train)\n",
    "# Dohvaća model A2C pomoću metode get_model\n",
    "model_a2c = agent.get_model(\"a2c\")\n",
    "\n",
    "if if_using_a2c:\n",
    "  # Postavljanje loggera za praćenje i zapisivanje informacija tijekom treniranja\n",
    "  tmp_path = RESULTS_DIR + '/a2c'\n",
    "  # Konfigurira novi logger koji će ispisivati informacije na standardni izlaz, zapisivati u CSV datoteku i TensorBoard\n",
    "  new_logger_a2c = configure(tmp_path, [\"stdout\", \"csv\", \"tensorboard\"])\n",
    "  # Postavlja novi logger za model A2C.\n",
    "  model_a2c.set_logger(new_logger_a2c)"
   ]
  },
  {
   "cell_type": "code",
   "execution_count": null,
   "metadata": {},
   "outputs": [],
   "source": [
    "# Trenira model A2C s definiranim ukupnim brojem vremenskih koraka, samo ako je if_using_a2c postavljen na True.\n",
    "trained_a2c = agent.train_model(model=model_a2c, \n",
    "                                tb_log_name='a2c',\n",
    "                                total_timesteps=50000) if if_using_a2c else None"
   ]
  },
  {
   "cell_type": "code",
   "execution_count": 154,
   "metadata": {},
   "outputs": [],
   "source": [
    "# Sprema trenirani model A2C u definirani direktorij, samo ako je if_using_a2c postavljen na True.\n",
    "trained_a2c.save(TRAINED_MODEL_DIR + \"/agent_a2c\") if if_using_a2c else None"
   ]
  },
  {
   "cell_type": "markdown",
   "metadata": {},
   "source": [
    "#### Agent 2: DDPG"
   ]
  },
  {
   "cell_type": "code",
   "execution_count": null,
   "metadata": {},
   "outputs": [],
   "source": [
    "agent = DRLAgent(env = env_train)\n",
    "model_ddpg = agent.get_model(\"ddpg\")\n",
    "\n",
    "if if_using_ddpg:\n",
    "  # set up logger\n",
    "  tmp_path = RESULTS_DIR + '/ddpg'\n",
    "  new_logger_ddpg = configure(tmp_path, [\"stdout\", \"csv\", \"tensorboard\"])\n",
    "  # Set new logger\n",
    "  model_ddpg.set_logger(new_logger_ddpg)"
   ]
  },
  {
   "cell_type": "code",
   "execution_count": 156,
   "metadata": {},
   "outputs": [],
   "source": [
    "trained_ddpg = agent.train_model(model=model_ddpg, \n",
    "                             tb_log_name='ddpg',\n",
    "                             total_timesteps=50000) if if_using_ddpg else None"
   ]
  },
  {
   "cell_type": "code",
   "execution_count": 157,
   "metadata": {},
   "outputs": [],
   "source": [
    "\n",
    "trained_ddpg.save(TRAINED_MODEL_DIR + \"/agent_ddpg\") if if_using_ddpg else None"
   ]
  },
  {
   "cell_type": "markdown",
   "metadata": {},
   "source": [
    "#### Agent 3: PPO"
   ]
  },
  {
   "cell_type": "code",
   "execution_count": null,
   "metadata": {},
   "outputs": [],
   "source": [
    "agent = DRLAgent(env = env_train)\n",
    "PPO_PARAMS = {\n",
    "    \"n_steps\": 2048,\n",
    "    \"ent_coef\": 0.01,\n",
    "    \"learning_rate\": 0.00025,\n",
    "    \"batch_size\": 128,\n",
    "}\n",
    "model_ppo = agent.get_model(\"ppo\",model_kwargs = PPO_PARAMS)\n",
    "\n",
    "if if_using_ppo:\n",
    "  # set up logger\n",
    "  tmp_path = RESULTS_DIR + '/ppo'\n",
    "  new_logger_ppo = configure(tmp_path, [\"stdout\", \"csv\", \"tensorboard\"])\n",
    "  # Set new logger\n",
    "  model_ppo.set_logger(new_logger_ppo)"
   ]
  },
  {
   "cell_type": "code",
   "execution_count": null,
   "metadata": {},
   "outputs": [],
   "source": [
    "trained_ppo = agent.train_model(model=model_ppo, \n",
    "                             tb_log_name='ppo',\n",
    "                             total_timesteps=400000) if if_using_ppo else None"
   ]
  },
  {
   "cell_type": "code",
   "execution_count": 160,
   "metadata": {},
   "outputs": [],
   "source": [
    "trained_ppo.save(TRAINED_MODEL_DIR + \"/agent_ppo\") if if_using_ppo else None"
   ]
  },
  {
   "cell_type": "markdown",
   "metadata": {},
   "source": [
    "#### Agent 4: TD3"
   ]
  },
  {
   "cell_type": "code",
   "execution_count": null,
   "metadata": {},
   "outputs": [],
   "source": [
    "agent = DRLAgent(env = env_train)\n",
    "TD3_PARAMS = {\"batch_size\": 100, \n",
    "              \"buffer_size\": 1000000, \n",
    "              \"learning_rate\": 0.001}\n",
    "\n",
    "model_td3 = agent.get_model(\"td3\",model_kwargs = TD3_PARAMS)\n",
    "\n",
    "if if_using_td3:\n",
    "  # set up logger\n",
    "  tmp_path = RESULTS_DIR + '/td3'\n",
    "  new_logger_td3 = configure(tmp_path, [\"stdout\", \"csv\", \"tensorboard\"])\n",
    "  # Set new logger\n",
    "  model_td3.set_logger(new_logger_td3)"
   ]
  },
  {
   "cell_type": "code",
   "execution_count": 162,
   "metadata": {},
   "outputs": [],
   "source": [
    "trained_td3 = agent.train_model(model=model_td3, \n",
    "                             tb_log_name='td3',\n",
    "                             total_timesteps=50000) if if_using_td3 else None"
   ]
  },
  {
   "cell_type": "code",
   "execution_count": 163,
   "metadata": {},
   "outputs": [],
   "source": [
    "trained_td3.save(TRAINED_MODEL_DIR + \"/agent_td3\") if if_using_td3 else None"
   ]
  },
  {
   "cell_type": "markdown",
   "metadata": {},
   "source": [
    "#### Agent 5: SAC"
   ]
  },
  {
   "cell_type": "code",
   "execution_count": null,
   "metadata": {},
   "outputs": [],
   "source": [
    "agent = DRLAgent(env = env_train)\n",
    "SAC_PARAMS = {\n",
    "    \"batch_size\": 128,\n",
    "    \"buffer_size\": 100000,\n",
    "    \"learning_rate\": 0.0001,\n",
    "    \"learning_starts\": 100,\n",
    "    \"ent_coef\": \"auto_0.1\",\n",
    "}\n",
    "\n",
    "model_sac = agent.get_model(\"sac\",model_kwargs = SAC_PARAMS)\n",
    "\n",
    "if if_using_sac:\n",
    "  # set up logger\n",
    "  tmp_path = RESULTS_DIR + '/sac'\n",
    "  new_logger_sac = configure(tmp_path, [\"stdout\", \"csv\", \"tensorboard\"])\n",
    "  # Set new logger\n",
    "  model_sac.set_logger(new_logger_sac)"
   ]
  },
  {
   "cell_type": "code",
   "execution_count": null,
   "metadata": {},
   "outputs": [],
   "source": [
    "trained_sac = agent.train_model(model=model_sac, \n",
    "                             tb_log_name='sac',\n",
    "                             total_timesteps=70000) if if_using_sac else None"
   ]
  },
  {
   "cell_type": "code",
   "execution_count": 166,
   "metadata": {},
   "outputs": [],
   "source": [
    "trained_sac.save(TRAINED_MODEL_DIR + \"/agent_sac\") if if_using_sac else None"
   ]
  },
  {
   "cell_type": "markdown",
   "metadata": {},
   "source": [
    "## 6. Priprema za backtest"
   ]
  },
  {
   "cell_type": "code",
   "execution_count": 167,
   "metadata": {},
   "outputs": [],
   "source": [
    "# Po potrebi učitavamo sporemnjene podatke ako smo restrartali proces (nije potrebno)\n",
    "train = pd.read_csv('train_data.csv')\n",
    "trade = pd.read_csv('trade_data.csv')\n",
    "\n",
    "train = train.set_index(train.columns[0])\n",
    "train.index.names = ['']\n",
    "trade = trade.set_index(trade.columns[0])\n",
    "trade.index.names = ['']"
   ]
  },
  {
   "cell_type": "code",
   "execution_count": 168,
   "metadata": {},
   "outputs": [],
   "source": [
    "# Po potrebi učitavamo sporemnjene podatke o treningu agenata ako smo restrartali proces (nije potrebno)\n",
    "if_using_a2c = True\n",
    "if_using_ddpg = False\n",
    "if_using_ppo = True\n",
    "if_using_td3 = False\n",
    "if_using_sac = True\n",
    "\n",
    "trained_a2c = A2C.load(TRAINED_MODEL_DIR + \"/agent_a2c\") if if_using_a2c else None\n",
    "trained_ddpg = DDPG.load(TRAINED_MODEL_DIR + \"/agent_ddpg\") if if_using_ddpg else None\n",
    "trained_ppo = PPO.load(TRAINED_MODEL_DIR + \"/agent_ppo\") if if_using_ppo else None\n",
    "trained_td3 = TD3.load(TRAINED_MODEL_DIR + \"/agent_td3\") if if_using_td3 else None\n",
    "trained_sac = SAC.load(TRAINED_MODEL_DIR + \"/agent_sac\") if if_using_sac else None"
   ]
  },
  {
   "cell_type": "markdown",
   "metadata": {},
   "source": [
    "## 7. Trgovanje (podatci izvan trening seta)"
   ]
  },
  {
   "cell_type": "markdown",
   "metadata": {},
   "source": [
    "Ovdje sada za trgovanje koristimo trade skup podataka koji nikad nije bio korišten za trening. Dodatno sličnim pristupom bi mogli i dotrenirati postojeći spremljeni model.\n",
    "\n",
    "Brojni hiperparametri, na primjer, stopa učenja, ukupan broj uzoraka za trening – utječu na proces učenja i obično se određuju testiranjem nekih varijacija."
   ]
  },
  {
   "cell_type": "code",
   "execution_count": null,
   "metadata": {},
   "outputs": [],
   "source": [
    "stock_dimension = len(trade.tic.unique())\n",
    "state_space = 1 + 2*stock_dimension + len(INDICATORS)*stock_dimension + len(FUNDAMENTAL_INDICATORS)*stock_dimension\n",
    "print(f\"Stock Dimension: {stock_dimension}, State Space: {state_space}\")"
   ]
  },
  {
   "cell_type": "code",
   "execution_count": 170,
   "metadata": {},
   "outputs": [],
   "source": [
    "buy_cost_list = sell_cost_list = [0] * stock_dimension\n",
    "num_stock_shares = [0] * stock_dimension\n",
    "\n",
    "env_kwargs = {\n",
    "    \"hmax\": 1000,\n",
    "    \"initial_amount\": 100000,\n",
    "    \"num_stock_shares\": num_stock_shares,\n",
    "    \"buy_cost_pct\": buy_cost_list,\n",
    "    \"sell_cost_pct\": sell_cost_list,\n",
    "    \"state_space\": state_space,\n",
    "    \"stock_dim\": stock_dimension,\n",
    "    \"tech_indicator_list\": INDICATORS,\n",
    "    \"fundamental_indicator_list\": FUNDAMENTAL_INDICATORS,\n",
    "    \"action_space\": stock_dimension,\n",
    "    \"reward_scaling\": 1e-2,\n",
    "    \"verbose\": 1\n",
    "}"
   ]
  },
  {
   "cell_type": "markdown",
   "metadata": {},
   "source": [
    "Ovaj dio se odnosi se na korištenje dubokog pojačanog učenja (DRL) za simulaciju trgovanja u stvarnom vremenu koristeći prethodno trenirani model (u ovom slučaju, A2C). StockTradingEnv je okruženje koje simulira tržište dionica s obzirom na povijesne podatke, prag turbulencije (koji se koristi za određivanje volatilnosti tržišta), i 'VIX' kao pokazatelj rizika. Nakon inicijalizacije okruženja, koristi se metoda get_sb_env() za dohvaćanje okruženja i početne opservacije koje su kompatibilne sa Stable Baselines bibliotekom."
   ]
  },
  {
   "cell_type": "code",
   "execution_count": null,
   "metadata": {},
   "outputs": [],
   "source": [
    "# Inicijalizacija okruženja za trgovanje s definiranim DataFrame-om 'trade', pragom turbulencije i pokazateljem rizika 'vix',\n",
    "# zajedno s ostalim parametrima okruženja ('env_kwargs').\n",
    "e_trade_gym = StockTradingEnv(df = trade, **env_kwargs)\n",
    "\n",
    "# Dohvaćanje okruženja kompatibilnog sa Stable Baselines i početne opservacije.\n",
    "env_trade, obs_trade = e_trade_gym.get_sb_env()"
   ]
  },
  {
   "cell_type": "markdown",
   "metadata": {},
   "source": [
    "Zatim se DRL agent koristi za predviđanje akcija trgovanja i promjene u vrijednosti računa na temelju treniranog modela. To omogućuje evaluaciju performansi modela u scenariju izvan uzorka, pružajući uvid u to kako bi model mogao performirati u stvarnim trgovačkim uvjetima. Ako je odabrana upotreba A2C algoritma (kao što je indicirano varijablom if_using_a2c), provodi se predviđanje; u suprotnom, rezultat se postavlja na None."
   ]
  },
  {
   "cell_type": "code",
   "execution_count": null,
   "metadata": {},
   "outputs": [],
   "source": [
    "# Korištenje DRL agenta za predviđanje koristeći trenirani model 'trained_a2c' i definirano okruženje trgovanja 'e_trade_gym'.\n",
    "# Rezultati su dva DataFrame-a: 'df_account_value_a2c' s vrijednostima računa i 'df_actions_a2c' s akcijama koje su poduzete,\n",
    "# ako je 'if_using_a2c' postavljen na True; inače se vraća (None, None).\n",
    "df_account_value_a2c, df_actions_a2c = DRLAgent.DRL_prediction(\n",
    "    model=trained_a2c, \n",
    "    environment = e_trade_gym) if if_using_a2c else (None, None)"
   ]
  },
  {
   "cell_type": "code",
   "execution_count": 173,
   "metadata": {},
   "outputs": [],
   "source": [
    "df_account_value_ddpg, df_actions_ddpg = DRLAgent.DRL_prediction(\n",
    "    model=trained_ddpg, \n",
    "    environment = e_trade_gym) if if_using_ddpg else (None, None)"
   ]
  },
  {
   "cell_type": "code",
   "execution_count": null,
   "metadata": {},
   "outputs": [],
   "source": [
    "df_account_value_ppo, df_actions_ppo = DRLAgent.DRL_prediction(\n",
    "    model=trained_ppo, \n",
    "    environment = e_trade_gym) if if_using_ppo else (None, None)"
   ]
  },
  {
   "cell_type": "code",
   "execution_count": 175,
   "metadata": {},
   "outputs": [],
   "source": [
    "df_account_value_td3, df_actions_td3 = DRLAgent.DRL_prediction(\n",
    "    model=trained_td3, \n",
    "    environment = e_trade_gym) if if_using_td3 else (None, None)"
   ]
  },
  {
   "cell_type": "code",
   "execution_count": null,
   "metadata": {},
   "outputs": [],
   "source": [
    "df_account_value_sac, df_actions_sac = DRLAgent.DRL_prediction(\n",
    "    model=trained_sac, \n",
    "    environment = e_trade_gym) if if_using_sac else (None, None)"
   ]
  },
  {
   "cell_type": "markdown",
   "metadata": {},
   "source": [
    "## 8. Mean Variance optimizacija"
   ]
  },
  {
   "cell_type": "markdown",
   "metadata": {},
   "source": [
    "Optimizacija srednje varijance je klasična strategija upravljanja portfeljem. Ovdje prolazimo kroz cijeli proces da bismo izvršili optimizaciju srednje varijance i dodali je kao osnovu za usporedbu (benchmark).\n",
    "\n",
    "Naredni kod implementira optimizaciju srednje varijance (MVO) za upravljanje portfeljem. Počinje pripremom podataka za izračun težina MVO, sortiranjem podataka i izvlačenjem zatvarajućih cijena. Zatim koristi te podatke za izračunavanje dnevnih povrata dionica, te na temelju toga izračunava prosječne povrate i kovarijacijsku matricu povrata. Ovi statistički podaci su temelj za daljnje analize i odluke u upravljanju portfeljem, pružajući uvid u očekivane povrate i rizike povezane s različitim dionicama u portfelju.\n",
    "\n",
    "Obrađujemo DataFrame za izračun težina srednje varijance."
   ]
  },
  {
   "cell_type": "code",
   "execution_count": 177,
   "metadata": {},
   "outputs": [],
   "source": [
    "# Funkcija za pripremu DataFrame-a za izračun težina optimizacije srednje varijance (MVO)\n",
    "def process_df_for_mvo(df):\n",
    "  # Sortira DataFrame po datumu i oznaci dionice, a zatim selektira samo relevantne stupce\n",
    "  df = df.sort_values(['date','tic'],ignore_index=True)[['date','tic','close']]\n",
    "  # Uzima podskup podataka za prvu dimenziju dionica\n",
    "  fst = df.iloc[0:stock_dimension, :]\n",
    "  # Izvlači popis oznaka dionica\n",
    "  tic = fst['tic'].tolist()\n",
    "\n",
    "  # Inicijalizira prazan DataFrame za MVO\n",
    "  mvo = pd.DataFrame()\n",
    "\n",
    "  # Postavlja početne vrijednosti težina na 0 za svaku dionicu\n",
    "  for k in range(len(tic)):\n",
    "    mvo[tic[k]] = 0\n",
    "\n",
    "  # Popunjava DataFrame 'mvo' zatvarajućim cijenama za svaku dionicu po datumima\n",
    "  for i in range(df.shape[0]//stock_dimension):\n",
    "    n = df.iloc[i * stock_dimension:(i+1) * stock_dimension, :]\n",
    "    date = n['date'][i*stock_dimension]\n",
    "    mvo.loc[date] = n['close'].tolist()\n",
    "  \n",
    "  return mvo"
   ]
  },
  {
   "cell_type": "code",
   "execution_count": 178,
   "metadata": {},
   "outputs": [],
   "source": [
    "# Funkcija za izračun povrata dionica na temelju njihovih cijena\n",
    "def StockReturnsComputing(StockPrice, Rows, Columns): \n",
    "  import numpy as np \n",
    "  # Inicijalizira matricu povrata.\n",
    "  StockReturn = np.zeros([Rows-1, Columns]) \n",
    "  # Računa dnevni povrat za svaku dionicu\n",
    "  for j in range(Columns):        # j: Assets \n",
    "    for i in range(Rows-1):       # i: Daily Prices \n",
    "      StockReturn[i,j] = ((StockPrice[i+1, j] - StockPrice[i,j]) / StockPrice[i,j]) * 100 \n",
    "      \n",
    "  return StockReturn"
   ]
  },
  {
   "cell_type": "code",
   "execution_count": null,
   "metadata": {},
   "outputs": [],
   "source": [
    "# Primjena funkcije na trening i trade\n",
    "StockData = process_df_for_mvo(train)\n",
    "TradeData = process_df_for_mvo(trade)\n",
    "\n",
    "# Pretvara TradeData u numpy niz\n",
    "TradeData.to_numpy()"
   ]
  },
  {
   "cell_type": "code",
   "execution_count": null,
   "metadata": {},
   "outputs": [],
   "source": [
    "# Izračunava povrat po imovini\n",
    "arStockPrices = np.asarray(StockData)\n",
    "[Rows, Cols] = arStockPrices.shape\n",
    "arReturns = StockReturnsComputing(arStockPrices, Rows, Cols)\n",
    "\n",
    "# Izračunava prosječne povrate i kovarijacijsku matricu povrata\n",
    "meanReturns = np.mean(arReturns, axis = 0)\n",
    "covReturns = np.cov(arReturns, rowvar=False)\n",
    " \n",
    "# Postavlja preciznost za ispis rezultata.\n",
    "np.set_printoptions(precision=3, suppress = True)\n",
    "\n",
    "# Prikazuje prosječne povrate i kovarijacijsku matricu povrata\n",
    "print('Mean returns of assets in k-portfolio 1\\n', meanReturns)\n",
    "print('Variance-Covariance matrix of returns\\n', covReturns)"
   ]
  },
  {
   "cell_type": "markdown",
   "metadata": {},
   "source": [
    "### Korsitimo sada PyPortfolioOpt"
   ]
  },
  {
   "cell_type": "code",
   "execution_count": null,
   "metadata": {},
   "outputs": [],
   "source": [
    "# Učitavanje klase EfficientFrontier iz PyPortfolioOpt biblioteke\n",
    "from pypfopt.efficient_frontier import EfficientFrontier\n",
    "\n",
    "# Inicijalizacija objekta EfficientFrontier s prosječnim povratima i kovarijacijskom matricom povrata\n",
    "# Ograničenja težine su postavljena tako da nijedna imovina ne može činiti više od 50% portfelja\n",
    "ef_mean = EfficientFrontier(meanReturns, covReturns, weight_bounds=(0, 0.5))\n",
    "\n",
    "# Izračunavanje sirovih težina za maksimalni Sharpeov omjer\n",
    "raw_weights_mean = ef_mean.max_sharpe()\n",
    "\n",
    "# Čišćenje težina kako bi se zaokružile vrlo male težine na 0 i normalizirale ostale\n",
    "cleaned_weights_mean = ef_mean.clean_weights()\n",
    "\n",
    "# Pretvorba čistih težina u stvarne iznose ulaganja, pretpostavljajući početni kapital od 1,000,000\n",
    "mvo_weights = np.array([100000 * cleaned_weights_mean[i] for i in range(5)])\n",
    "print(mvo_weights)\n",
    "\n",
    "# Izračunavanje cijene posljednje dionice u datasetu kako bi se odredile početne količine dionica.\n",
    "LastPrice = np.array([1/p for p in StockData.tail(1).to_numpy()[0]])\n",
    "\n",
    "# Izračunavanje početnog portfelja množenjem iznosa ulaganja s posljednjom cijenom.\n",
    "Initial_Portfolio = np.multiply(mvo_weights, LastPrice)\n",
    "print(Initial_Portfolio)\n",
    "\n",
    "# Izračunavanje vrijednosti portfelja koristeći trgovinske podatke i početne količine dionica.\n",
    "Portfolio_Assets = TradeData @ Initial_Portfolio\n",
    "\n",
    "# Stvaranje DataFrame-a s rezultatima optimizacije srednje varijance.\n",
    "MVO_result = pd.DataFrame(Portfolio_Assets, columns=[\"Mean Var\"])\n",
    "print(MVO_result)"
   ]
  },
  {
   "cell_type": "markdown",
   "metadata": {},
   "source": [
    "## 9. DJI indeks za usporedbu"
   ]
  },
  {
   "cell_type": "markdown",
   "metadata": {},
   "source": [
    "Dodajemo DJI indeks koji koristimo kao benchmark za usporedbu s našim DRL modelima"
   ]
  },
  {
   "cell_type": "code",
   "execution_count": null,
   "metadata": {},
   "outputs": [],
   "source": [
    "df_dji = YahooDownloader(start_date = TRADE_START_DATE,\n",
    "                     end_date = TRADE_END_DATE,\n",
    "                     ticker_list = ['^DJI']).fetch_data()"
   ]
  },
  {
   "cell_type": "code",
   "execution_count": 183,
   "metadata": {},
   "outputs": [],
   "source": [
    "df_dji = df_dji[['date','close']]\n",
    "fst_day = df_dji['close'][0]\n",
    "dji = pd.merge(df_dji['date'], df_dji['close'].div(fst_day).mul(100000), \n",
    "               how='outer', left_index=True, right_index=True).set_index('date')"
   ]
  },
  {
   "cell_type": "markdown",
   "metadata": {},
   "source": [
    "## 10. Provodima backetinskg modela"
   ]
  },
  {
   "cell_type": "code",
   "execution_count": null,
   "metadata": {},
   "outputs": [],
   "source": [
    "# Postavljanje indeksa DataFrame-ova vrijednosti računa za svaku od DRL strategija, ako su odabrane.\n",
    "df_result_a2c = df_account_value_a2c.set_index(df_account_value_a2c.columns[0]) if if_using_a2c else None\n",
    "df_result_ddpg = df_account_value_ddpg.set_index(df_account_value_ddpg.columns[0]) if if_using_ddpg else None\n",
    "df_result_ppo = df_account_value_ppo.set_index(df_account_value_ppo.columns[0]) if if_using_ppo else None\n",
    "df_result_td3 = df_account_value_td3.set_index(df_account_value_td3.columns[0]) if if_using_td3 else None\n",
    "df_result_sac = df_account_value_sac.set_index(df_account_value_sac.columns[0]) if if_using_sac else None\n",
    "\n",
    "# Kreiranje praznog DataFrame-a za rezultate.\n",
    "result = pd.DataFrame()\n",
    "\n",
    "# Spajanje rezultata svih DRL strategija u jedan DataFrame, ako su odabrane.\n",
    "if if_using_a2c: result = pd.merge(result, df_result_a2c, how='outer', left_index=True, right_index=True)\n",
    "if if_using_ddpg: result = pd.merge(result, df_result_ddpg, how='outer', left_index=True, right_index=True, suffixes=('', '_drop'))\n",
    "if if_using_ppo: result = pd.merge(result, df_result_ppo, how='outer', left_index=True, right_index=True, suffixes=('', '_drop'))\n",
    "if if_using_td3: result = pd.merge(result, df_result_td3, how='outer', left_index=True, right_index=True, suffixes=('', '_drop'))\n",
    "if if_using_sac: result = pd.merge(result, df_result_sac, how='outer', left_index=True, right_index=True, suffixes=('', '_drop'))\n",
    "\n",
    "# Spajanje rezultata optimizacije srednje varijance i indeksa DJIA s glavnim rezultatima.\n",
    "result = pd.merge(result, MVO_result, how='outer', left_index=True, right_index=True)\n",
    "result = pd.merge(result, dji, how='outer', left_index=True, right_index=True).fillna(method='bfill')"
   ]
  },
  {
   "cell_type": "code",
   "execution_count": 185,
   "metadata": {},
   "outputs": [],
   "source": [
    "# Dodavanje imena stupaca na temelju odabranih strategija.\n",
    "col_name = []\n",
    "col_name.append('A2C') if if_using_a2c else None\n",
    "col_name.append('DDPG') if if_using_ddpg else None\n",
    "col_name.append('PPO') if if_using_ppo else None\n",
    "col_name.append('TD3') if if_using_td3 else None\n",
    "col_name.append('SAC') if if_using_sac else None\n",
    "col_name.append('Mean Var')\n",
    "col_name.append('DJI') \n",
    "result.columns = col_name"
   ]
  },
  {
   "cell_type": "code",
   "execution_count": null,
   "metadata": {},
   "outputs": [],
   "source": [
    "# Prikazivanje rezultata\n",
    "result.head()"
   ]
  },
  {
   "cell_type": "markdown",
   "metadata": {},
   "source": [
    "### Ovdje plotiramo graf koji pokazuje ukupnu vrijednost portfolija korz vrijeme za pojedinu strategiju i benchmark"
   ]
  },
  {
   "cell_type": "code",
   "execution_count": null,
   "metadata": {},
   "outputs": [],
   "source": [
    "# Postavljanje veličine figure za grafikone i crtanje grafikona performansi strategija trgovanja.\n",
    "plt.rcParams[\"figure.figsize\"] = (15,5)\n",
    "plt.figure()\n",
    "result.plot()"
   ]
  },
  {
   "cell_type": "markdown",
   "metadata": {},
   "source": [
    "Na temelju vrijednosti portfolija računamo dnevne povrate "
   ]
  },
  {
   "cell_type": "code",
   "execution_count": null,
   "metadata": {},
   "outputs": [],
   "source": [
    "from pyfolio import timeseries\n",
    "import pandas as pd\n",
    "\n",
    "# Lista strategija za koje želite generirati statistike\n",
    "strategies = ['A2C', 'DDPG', 'PPO', 'TD3', 'SAC', \"Mean Var\", \"DJI\"]\n",
    "\n",
    "for strategy in strategies:\n",
    "    column_name = f'{strategy}'\n",
    "    if column_name in result.columns:\n",
    "        # Izračunavanje dnevnih povrata iz vrijednosti portfelja\n",
    "        result[f'{strategy}_returns'] = result[column_name].pct_change()"
   ]
  },
  {
   "cell_type": "code",
   "execution_count": null,
   "metadata": {},
   "outputs": [],
   "source": [
    "result.head()"
   ]
  },
  {
   "cell_type": "markdown",
   "metadata": {},
   "source": [
    "### Računamo povrate po odabranoj strategiji"
   ]
  },
  {
   "cell_type": "code",
   "execution_count": null,
   "metadata": {},
   "outputs": [],
   "source": [
    "# Pretpostavljamo da result DataFrame već sadrži vrijednosti portfelja za svaku strategiju\n",
    "for strategy in strategies:\n",
    "    # Provjerite postoji li strategija u DataFrame-u\n",
    "    if f'{strategy}_returns' in result.columns:\n",
    "        # Izvlačenje dnevnih povrata za trenutnu strategiju\n",
    "        returns = result[f'{strategy}_returns'].dropna()\n",
    "        returns.index = pd.to_datetime(returns.index)\n",
    "\n",
    "        # Izračunavanje statistika performansi za trenutnu strategiju\n",
    "        perf_stats = timeseries.perf_stats(returns=returns, factor_returns=None, positions=None, transactions=None, turnover_denom=\"AGB\")\n",
    "\n",
    "        # Ispis statistika performansi\n",
    "        print(f\"==============Strategy Stats ({strategy})==============\")\n",
    "        print(perf_stats)\n",
    "        print(\"\\n\")\n",
    "    else:\n",
    "        print(f\"Strategija {strategy} nije pronađena u rezultatima.\\n\")\n"
   ]
  },
  {
   "cell_type": "markdown",
   "metadata": {},
   "source": [
    "### Plotiramo komulativne povrate za pojedinu strategiju"
   ]
  },
  {
   "cell_type": "code",
   "execution_count": null,
   "metadata": {},
   "outputs": [],
   "source": [
    "import matplotlib.pyplot as plt\n",
    "import matplotlib.dates as mdates\n",
    "import pandas as pd\n",
    "\n",
    "# Setting the figure size for the plot\n",
    "plt.figure(figsize=(12, 6))\n",
    "\n",
    "# Iterating through each strategy and plotting its cumulative returns\n",
    "for strategy in strategies:\n",
    "    if f'{strategy}_returns' in result.columns:\n",
    "        # Make sure dates are properly parsed\n",
    "        result.index = pd.to_datetime(result.index)\n",
    "        \n",
    "        # Extracting daily returns for the current strategy and converting to decimal format if necessary\n",
    "        returns = result[f'{strategy}_returns'].dropna() + 1  # Adds 1 for using cumprod()\n",
    "        \n",
    "        # Calculating cumulative returns and converting to percentage\n",
    "        cumulative_returns = (returns.cumprod() - 1) * 100  # Convert to percentage\n",
    "        \n",
    "        # Plotting cumulative returns with original colors\n",
    "        plt.plot(cumulative_returns.index, cumulative_returns, label=strategy)\n",
    "\n",
    "# Format y-axis as percentages\n",
    "plt.gca().yaxis.set_major_formatter(plt.FuncFormatter(lambda y, _: '{:.0f}%'.format(y)))\n",
    "plt.ylabel('Cumulative Returns (%)')\n",
    "plt.xlabel('Date')\n",
    "\n",
    "# Format x-axis dates\n",
    "plt.gca().xaxis.set_major_locator(mdates.MonthLocator())\n",
    "plt.gca().xaxis.set_major_formatter(mdates.DateFormatter('%Y-%m-%d'))\n",
    "\n",
    "# Make sure dates are in the correct format and rotated\n",
    "plt.gcf().autofmt_xdate()\n",
    "\n",
    "# Adding title and legend\n",
    "#plt.title('Cumulative Returns of DRL Strategies')\n",
    "plt.legend(loc='upper left')\n",
    "\n",
    "# Add grid with light gray color\n",
    "plt.grid(True, linestyle='-', alpha=0.2)\n",
    "\n",
    "# Adjust layout to prevent label cutoff\n",
    "plt.tight_layout()\n",
    "\n",
    "# Displaying the plot\n",
    "plt.show()"
   ]
  },
  {
   "cell_type": "markdown",
   "metadata": {},
   "source": [
    "### Spremamo rezultate u CSV\n",
    "Potrebno promjeniti za svakog agenta"
   ]
  },
  {
   "cell_type": "code",
   "execution_count": 192,
   "metadata": {},
   "outputs": [],
   "source": [
    "import pickle\n",
    "\n",
    "# Za ppo\n",
    "with open('results/6. PORTFOLIO/primorl_df_account_value_ppo.pkl', 'wb') as f:\n",
    "    pickle.dump(df_account_value_ppo, f)\n",
    "    \n",
    "# Za a2c\n",
    "with open('results/6. PORTFOLIO/primorl_df_account_value_a2c.pkl', 'wb') as f:\n",
    "    pickle.dump(df_account_value_a2c, f)\n",
    "\n",
    "# Za sac\n",
    "with open('results/6. PORTFOLIO/primorl_df_account_value_sac.pkl', 'wb') as f:\n",
    "    pickle.dump(df_account_value_sac, f)\n",
    "\n",
    "# Za mean var\n",
    "with open('results/6. PORTFOLIO/primorl_mean_var.pkl', 'wb') as f:\n",
    "    pickle.dump(MVO_result, f)\n",
    "\n",
    "# Za dji\n",
    "with open('results/6. PORTFOLIO/primorl_dji.pkl', 'wb') as f:\n",
    "    pickle.dump(dji, f)"
   ]
  }
 ],
 "metadata": {
  "kernelspec": {
   "display_name": "base",
   "language": "python",
   "name": "python3"
  },
  "language_info": {
   "codemirror_mode": {
    "name": "ipython",
    "version": 3
   },
   "file_extension": ".py",
   "mimetype": "text/x-python",
   "name": "python",
   "nbconvert_exporter": "python",
   "pygments_lexer": "ipython3",
   "version": "3.12.9"
  }
 },
 "nbformat": 4,
 "nbformat_minor": 2
}
